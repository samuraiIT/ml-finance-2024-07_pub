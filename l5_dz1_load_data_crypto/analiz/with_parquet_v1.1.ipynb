{
 "cells": [
  {
   "cell_type": "markdown",
   "metadata": {},
   "source": [
    "### Загрузка данных из .parquet файла и построение графика"
   ]
  },
  {
   "cell_type": "code",
   "execution_count": null,
   "metadata": {},
   "outputs": [],
   "source": [
    "import pandas as pd\n",
    "import plotly.express as px\n",
    "\n",
    "# Функция для загрузки данных из .parquet файла\n",
    "def load_data_from_parquet(file_path):\n",
    "    \"\"\"\n",
    "    Загрузка данных из .parquet файла.\n",
    "    \"\"\"\n",
    "    try:\n",
    "        df = pd.read_parquet(file_path)\n",
    "        print(f\"Данные загружены из {file_path}\")\n",
    "        return df\n",
    "    except Exception as e:\n",
    "        print(f\"Ошибка при загрузке данных из {file_path}: {e}\")\n",
    "        return None\n",
    "\n",
    "# Функция для построения графика цен закрытия\n",
    "def plot_parquet_data(df, pair):\n",
    "    \"\"\"\n",
    "    Построение графика цен закрытия для определенной пары на основе данных из parquet.\n",
    "    \"\"\"\n",
    "    if df is not None and 'timestamp' in df and 'close' in df:\n",
    "        fig = px.line(df, x='timestamp', y='close', title=f'Close Price of {pair}')\n",
    "        fig.show(renderer=\"browser\")  # Открытие графика в браузере\n",
    "    else:\n",
    "        print(\"Данные некорректны или отсутствуют столбцы 'timestamp' и 'close'\")\n",
    "\n",
    "\n",
    "# Путь для файлов:\n",
    "file_path = \"BTC_USDT.parquet\"  # Укажите путь к вашему .parquet файлу\n",
    "pair = file_path  # Название пары для графика\n",
    "\n",
    "\n",
    "# Загрузка данных из .parquet\n",
    "df = load_data_from_parquet(file_path)\n",
    "\n",
    "# Построение графика\n",
    "plot_parquet_data(df, pair)"
   ]
  }
 ],
 "metadata": {
  "kernelspec": {
   "display_name": ".venv",
   "language": "python",
   "name": "python3"
  },
  "language_info": {
   "name": "python",
   "version": "3.10.12"
  }
 },
 "nbformat": 4,
 "nbformat_minor": 2
}
